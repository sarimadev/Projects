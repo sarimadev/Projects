
  {
   "cell_type": "markdown",
   "metadata": {},
   "source": [
    "## 1. Loading data and preliminary analysis\n",
    "\n",
    "\n",
    "The block below loads our data and seperates features (X) from the target attribute (y)"
   ]
  },
  {
   "cell_type": "code",
   "execution_count": 142,
   "metadata": {},
   "outputs": [],
   "source": [
    "import pandas as pd\n",
    "\n",
    "data = pd.read_csv(\"C:/Users/sarim/Downloads/SCHOOL/MACHINE_LEARNING/COURSEWORK 2/data.csv\")\n",
    "\n",
    "X = data.drop(\"y\", axis=1)  # select all columns except target (\"y\")\n",
    "y = data[[\"y\"]] # select only the target column \"y\""
   ]
  },
  {
   "cell_type": "markdown",
   "metadata": {},
   "source": [
    "The block below examines the target attribute \"y\""
   ]
  },
  {
   "cell_type": "code",
   "execution_count": 143,
   "metadata": {},
   "outputs": [
    {
     "data": {
      "text/html": [
       "<div>\n",
       "<style scoped>\n",
       "    .dataframe tbody tr th:only-of-type {\n",
       "        vertical-align: middle;\n",
       "    }\n",
       "\n",
       "    .dataframe tbody tr th {\n",
       "        vertical-align: top;\n",
       "    }\n",
       "\n",
       "    .dataframe thead th {\n",
       "        text-align: right;\n",
       "    }\n",
       "</style>\n",
       "<table border=\"1\" class=\"dataframe\">\n",
       "  <thead>\n",
       "    <tr style=\"text-align: right;\">\n",
       "      <th></th>\n",
       "      <th>y</th>\n",
       "    </tr>\n",
       "  </thead>\n",
       "  <tbody>\n",
       "    <tr>\n",
       "      <th>0</th>\n",
       "      <td>32.175299</td>\n",
       "    </tr>\n",
       "    <tr>\n",
       "      <th>1</th>\n",
       "      <td>6.521285</td>\n",
       "    </tr>\n",
       "    <tr>\n",
       "      <th>2</th>\n",
       "      <td>5.688139</td>\n",
       "    </tr>\n",
       "    <tr>\n",
       "      <th>3</th>\n",
       "      <td>8.488786</td>\n",
       "    </tr>\n",
       "    <tr>\n",
       "      <th>4</th>\n",
       "      <td>63.570984</td>\n",
       "    </tr>\n",
       "  </tbody>\n",
       "</table>\n",
       "</div>"
      ],
      "text/plain": [
       "           y\n",
       "0  32.175299\n",
       "1   6.521285\n",
       "2   5.688139\n",
       "3   8.488786\n",
       "4  63.570984"
      ]
     },
     "execution_count": 143,
     "metadata": {},
     "output_type": "execute_result"
    }
   ],
   "source": [
    "y.head()"
   ]
  },
  {
   "cell_type": "markdown",
   "metadata": {},
   "source": [
    "From the result above, we see that the target variable 'y' is numerical and continuous, therefore, the supervised problem at hand is a regression task. The objective is to predict a continuous variable.\n",
    "\n",
    "\n",
    "To understand the frequency distribution of the outcome, the code below shows some statistics of the target variable"
   ]
  },
  {
   "cell_type": "code",
   "execution_count": 144,
   "metadata": {},
   "outputs": [
    {
     "data": {
      "text/html": [
       "<div>\n",
       "<style scoped>\n",
       "    .dataframe tbody tr th:only-of-type {\n",
       "        vertical-align: middle;\n",
       "    }\n",
       "\n",
       "    .dataframe tbody tr th {\n",
       "        vertical-align: top;\n",
       "    }\n",
       "\n",
       "    .dataframe thead th {\n",
       "        text-align: right;\n",
       "    }\n",
       "</style>\n",
       "<table border=\"1\" class=\"dataframe\">\n",
       "  <thead>\n",
       "    <tr style=\"text-align: right;\">\n",
       "      <th></th>\n",
       "      <th>y</th>\n",
       "    </tr>\n",
       "  </thead>\n",
       "  <tbody>\n",
       "    <tr>\n",
       "      <th>count</th>\n",
       "      <td>150.000000</td>\n",
       "    </tr>\n",
       "    <tr>\n",
       "      <th>mean</th>\n",
       "      <td>15.573634</td>\n",
       "    </tr>\n",
       "    <tr>\n",
       "      <th>std</th>\n",
       "      <td>21.532456</td>\n",
       "    </tr>\n",
       "    <tr>\n",
       "      <th>min</th>\n",
       "      <td>0.081166</td>\n",
       "    </tr>\n",
       "    <tr>\n",
       "      <th>25%</th>\n",
       "      <td>0.855930</td>\n",
       "    </tr>\n",
       "    <tr>\n",
       "      <th>50%</th>\n",
       "      <td>4.188566</td>\n",
       "    </tr>\n",
       "    <tr>\n",
       "      <th>75%</th>\n",
       "      <td>22.455500</td>\n",
       "    </tr>\n",
       "    <tr>\n",
       "      <th>max</th>\n",
       "      <td>80.673096</td>\n",
       "    </tr>\n",
       "  </tbody>\n",
       "</table>\n",
       "</div>"
      ],
      "text/plain": [
       "                y\n",
       "count  150.000000\n",
       "mean    15.573634\n",
       "std     21.532456\n",
       "min      0.081166\n",
       "25%      0.855930\n",
       "50%      4.188566\n",
       "75%     22.455500\n",
       "max     80.673096"
      ]
     },
     "execution_count": 144,
     "metadata": {},
     "output_type": "execute_result"
    }
   ],
   "source": [
    "y.describe()"
   ]
  },
  {
   "cell_type": "markdown",
   "metadata": {},
   "source": [
    "Based on the summary statistics provided, the mean value, 15.573634 and standard deviation value of 21.532456 are not enough to determine the shape of the distribution or how the values are distributed within the range of 'y'. To get a detailed understanding of the frequency distribution of our target variable,  we would need to visualize the distribution using a histogram."
   ]
  },
  {
   "cell_type": "code",
   "execution_count": 145,
   "metadata": {},
   "outputs": [
    {
     "data": {
      "image/png": "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\n",
      "text/plain": [
       "<Figure size 500x500 with 1 Axes>"
      ]
     },
     "metadata": {},
     "output_type": "display_data"
    }
   ],
   "source": [
    "#load library for data visualization\n",
    "import seaborn as sb\n",
    "import matplotlib.pyplot as plt\n",
    "\n",
    "hist = sb.displot(data=data, x='y', bins=20)\n",
    "plt.show(hist)\n"
   ]
  },
  {
   "cell_type": "markdown",
   "metadata": {},
   "source": [
    "Based on the histogram, the data for the target variable 'y' is left skewed, which means that some extremely large values in the range of 'y' are contributing to a high value of the mean and also that the variability in the data is a lot as indicated by the high standard deviation."
   ]
  },
  {
   "cell_type": "markdown",
   "metadata": {},
   "source": [
    "### 1.2. Checking the features \n",
    "\n",
    "The code below inspects the feature data"
   ]
  },
  {
   "cell_type": "code",
   "execution_count": 146,
   "metadata": {},
   "outputs": [
    {
     "data": {
      "text/html": [
       "<div>\n",
       "<style scoped>\n",
       "    .dataframe tbody tr th:only-of-type {\n",
       "        vertical-align: middle;\n",
       "    }\n",
       "\n",
       "    .dataframe tbody tr th {\n",
       "        vertical-align: top;\n",
       "    }\n",
       "\n",
       "    .dataframe thead th {\n",
       "        text-align: right;\n",
       "    }\n",
       "</style>\n",
       "<table border=\"1\" class=\"dataframe\">\n",
       "  <thead>\n",
       "    <tr style=\"text-align: right;\">\n",
       "      <th></th>\n",
       "      <th>x1</th>\n",
       "      <th>x2</th>\n",
       "      <th>x3</th>\n",
       "      <th>x4</th>\n",
       "      <th>x5</th>\n",
       "      <th>x6</th>\n",
       "      <th>x7</th>\n",
       "      <th>x8</th>\n",
       "    </tr>\n",
       "  </thead>\n",
       "  <tbody>\n",
       "    <tr>\n",
       "      <th>0</th>\n",
       "      <td>0.592109</td>\n",
       "      <td>0.545496</td>\n",
       "      <td>0.199054</td>\n",
       "      <td>2.370339</td>\n",
       "      <td>1.032510</td>\n",
       "      <td>1.137605</td>\n",
       "      <td>1.199802</td>\n",
       "      <td>-0.833456</td>\n",
       "    </tr>\n",
       "    <tr>\n",
       "      <th>1</th>\n",
       "      <td>0.911316</td>\n",
       "      <td>1.260952</td>\n",
       "      <td>0.446375</td>\n",
       "      <td>1.564526</td>\n",
       "      <td>0.820080</td>\n",
       "      <td>2.172268</td>\n",
       "      <td>1.441165</td>\n",
       "      <td>-0.373705</td>\n",
       "    </tr>\n",
       "    <tr>\n",
       "      <th>2</th>\n",
       "      <td>0.968683</td>\n",
       "      <td>3.744257</td>\n",
       "      <td>1.931173</td>\n",
       "      <td>1.472553</td>\n",
       "      <td>0.102181</td>\n",
       "      <td>4.712941</td>\n",
       "      <td>1.954805</td>\n",
       "      <td>1.828992</td>\n",
       "    </tr>\n",
       "    <tr>\n",
       "      <th>3</th>\n",
       "      <td>0.748656</td>\n",
       "      <td>2.741351</td>\n",
       "      <td>1.790573</td>\n",
       "      <td>1.696788</td>\n",
       "      <td>0.464028</td>\n",
       "      <td>3.490008</td>\n",
       "      <td>0.948294</td>\n",
       "      <td>1.326545</td>\n",
       "    </tr>\n",
       "    <tr>\n",
       "      <th>4</th>\n",
       "      <td>0.320502</td>\n",
       "      <td>3.196858</td>\n",
       "      <td>1.050494</td>\n",
       "      <td>2.813036</td>\n",
       "      <td>0.204284</td>\n",
       "      <td>3.517361</td>\n",
       "      <td>1.273237</td>\n",
       "      <td>0.846210</td>\n",
       "    </tr>\n",
       "  </tbody>\n",
       "</table>\n",
       "</div>"
      ],
      "text/plain": [
       "         x1        x2        x3        x4        x5        x6        x7  \\\n",
       "0  0.592109  0.545496  0.199054  2.370339  1.032510  1.137605  1.199802   \n",
       "1  0.911316  1.260952  0.446375  1.564526  0.820080  2.172268  1.441165   \n",
       "2  0.968683  3.744257  1.931173  1.472553  0.102181  4.712941  1.954805   \n",
       "3  0.748656  2.741351  1.790573  1.696788  0.464028  3.490008  0.948294   \n",
       "4  0.320502  3.196858  1.050494  2.813036  0.204284  3.517361  1.273237   \n",
       "\n",
       "         x8  \n",
       "0 -0.833456  \n",
       "1 -0.373705  \n",
       "2  1.828992  \n",
       "3  1.326545  \n",
       "4  0.846210  "
      ]
     },
     "execution_count": 146,
     "metadata": {},
     "output_type": "execute_result"
    }
   ],
   "source": [
    "# Show the first five rows in X\n",
    "\n",
    "X.head()"
   ]
  },
  {
   "cell_type": "code",
   "execution_count": 147,
   "metadata": {},
   "outputs": [
    {
     "data": {
      "text/plain": [
       "(150, 8)"
      ]
     },
     "execution_count": 147,
     "metadata": {},
     "output_type": "execute_result"
    }
   ],
   "source": [
    "#Show the number of rows and columns in X\n",
    "\n",
    "X.shape"
   ]
  },
  {
   "cell_type": "markdown",
   "metadata": {},
   "source": [
    "From the result, the X dataframe contains 150 observations(rows) and 8 features(columns)."
   ]
  },
  {
   "cell_type": "code",
   "execution_count": 148,
   "metadata": {},
   "outputs": [
    {
     "data": {
      "text/html": [
       "<div>\n",
       "<style scoped>\n",
       "    .dataframe tbody tr th:only-of-type {\n",
       "        vertical-align: middle;\n",
       "    }\n",
       "\n",
       "    .dataframe tbody tr th {\n",
       "        vertical-align: top;\n",
       "    }\n",
       "\n",
       "    .dataframe thead th {\n",
       "        text-align: right;\n",
       "    }\n",
       "</style>\n",
       "<table border=\"1\" class=\"dataframe\">\n",
       "  <thead>\n",
       "    <tr style=\"text-align: right;\">\n",
       "      <th></th>\n",
       "      <th>x1</th>\n",
       "      <th>x2</th>\n",
       "      <th>x3</th>\n",
       "      <th>x4</th>\n",
       "      <th>x5</th>\n",
       "      <th>x6</th>\n",
       "      <th>x7</th>\n",
       "      <th>x8</th>\n",
       "    </tr>\n",
       "  </thead>\n",
       "  <tbody>\n",
       "    <tr>\n",
       "      <th>count</th>\n",
       "      <td>150.000000</td>\n",
       "      <td>150.000000</td>\n",
       "      <td>150.000000</td>\n",
       "      <td>150.000000</td>\n",
       "      <td>150.000000</td>\n",
       "      <td>150.000000</td>\n",
       "      <td>150.000000</td>\n",
       "      <td>150.000000</td>\n",
       "    </tr>\n",
       "    <tr>\n",
       "      <th>mean</th>\n",
       "      <td>0.526873</td>\n",
       "      <td>2.532959</td>\n",
       "      <td>1.004755</td>\n",
       "      <td>1.437147</td>\n",
       "      <td>0.608091</td>\n",
       "      <td>3.059833</td>\n",
       "      <td>1.005223</td>\n",
       "      <td>0.396664</td>\n",
       "    </tr>\n",
       "    <tr>\n",
       "      <th>std</th>\n",
       "      <td>0.287178</td>\n",
       "      <td>1.366323</td>\n",
       "      <td>0.591567</td>\n",
       "      <td>0.869658</td>\n",
       "      <td>0.365670</td>\n",
       "      <td>1.405730</td>\n",
       "      <td>0.418172</td>\n",
       "      <td>0.666874</td>\n",
       "    </tr>\n",
       "    <tr>\n",
       "      <th>min</th>\n",
       "      <td>0.000789</td>\n",
       "      <td>0.039299</td>\n",
       "      <td>0.022259</td>\n",
       "      <td>0.034008</td>\n",
       "      <td>0.000504</td>\n",
       "      <td>0.324586</td>\n",
       "      <td>0.097891</td>\n",
       "      <td>-1.012279</td>\n",
       "    </tr>\n",
       "    <tr>\n",
       "      <th>25%</th>\n",
       "      <td>0.286739</td>\n",
       "      <td>1.467144</td>\n",
       "      <td>0.484289</td>\n",
       "      <td>0.685930</td>\n",
       "      <td>0.263076</td>\n",
       "      <td>1.988572</td>\n",
       "      <td>0.748112</td>\n",
       "      <td>-0.100801</td>\n",
       "    </tr>\n",
       "    <tr>\n",
       "      <th>50%</th>\n",
       "      <td>0.538521</td>\n",
       "      <td>2.489126</td>\n",
       "      <td>1.025886</td>\n",
       "      <td>1.410161</td>\n",
       "      <td>0.628974</td>\n",
       "      <td>2.985679</td>\n",
       "      <td>0.979791</td>\n",
       "      <td>0.389450</td>\n",
       "    </tr>\n",
       "    <tr>\n",
       "      <th>75%</th>\n",
       "      <td>0.776970</td>\n",
       "      <td>3.650754</td>\n",
       "      <td>1.504459</td>\n",
       "      <td>2.163303</td>\n",
       "      <td>0.920787</td>\n",
       "      <td>4.241689</td>\n",
       "      <td>1.292235</td>\n",
       "      <td>0.892501</td>\n",
       "    </tr>\n",
       "    <tr>\n",
       "      <th>max</th>\n",
       "      <td>0.986514</td>\n",
       "      <td>4.981110</td>\n",
       "      <td>1.976849</td>\n",
       "      <td>2.993408</td>\n",
       "      <td>1.293620</td>\n",
       "      <td>5.960314</td>\n",
       "      <td>1.954805</td>\n",
       "      <td>1.910219</td>\n",
       "    </tr>\n",
       "  </tbody>\n",
       "</table>\n",
       "</div>"
      ],
      "text/plain": [
       "               x1          x2          x3          x4          x5          x6  \\\n",
       "count  150.000000  150.000000  150.000000  150.000000  150.000000  150.000000   \n",
       "mean     0.526873    2.532959    1.004755    1.437147    0.608091    3.059833   \n",
       "std      0.287178    1.366323    0.591567    0.869658    0.365670    1.405730   \n",
       "min      0.000789    0.039299    0.022259    0.034008    0.000504    0.324586   \n",
       "25%      0.286739    1.467144    0.484289    0.685930    0.263076    1.988572   \n",
       "50%      0.538521    2.489126    1.025886    1.410161    0.628974    2.985679   \n",
       "75%      0.776970    3.650754    1.504459    2.163303    0.920787    4.241689   \n",
       "max      0.986514    4.981110    1.976849    2.993408    1.293620    5.960314   \n",
       "\n",
       "               x7          x8  \n",
       "count  150.000000  150.000000  \n",
       "mean     1.005223    0.396664  \n",
       "std      0.418172    0.666874  \n",
       "min      0.097891   -1.012279  \n",
       "25%      0.748112   -0.100801  \n",
       "50%      0.979791    0.389450  \n",
       "75%      1.292235    0.892501  \n",
       "max      1.954805    1.910219  "
      ]
     },
     "execution_count": 148,
     "metadata": {},
     "output_type": "execute_result"
    }
   ],
   "source": [
    "#show the 5-number summary of X \n",
    "\n",
    "X.describe()"
   ]
  },
  {
   "cell_type": "markdown",
   "metadata": {},
   "source": [
    "Based on the description above, it can be observed that the mean and standard deviation of the columns are not 0 and 1 respectively. This indicates that the data is not standardized since each column is on a different scale."
   ]
  },
  {
   "cell_type": "markdown",
   "metadata": {},
   "source": [
    "## 2. Training and testing a machine learning pipeline\n",
    "\n",
    "### Pipeline \n",
    "\n",
    "The proposed pipeline is defined as follows:\n",
    "\n",
    "1. StandardScaler: To standardize the features, addressing the left-skewed distribution and scaling the data to 0 and 1 for the mean and standard deviation respectively in order to have a more interpretable model.\n",
    "\n",
    "2. LinearRegression:  To fit a linear regression model on the transformed features."
   ]
  },
  {
   "cell_type": "markdown",
   "metadata": {},
   "source": [
    "### Split the data into training and testing sets"
   ]
  },
  {
   "cell_type": "code",
   "execution_count": 149,
   "metadata": {},
   "outputs": [],
   "source": [
    "# load the neccesary library\n",
    "from sklearn.model_selection import train_test_split\n",
    "\n",
    "X_train, X_test, y_train, y_test = train_test_split(X, y, test_size= 0.3, random_state= 10, shuffle=True)"
   ]
  },
  {
   "cell_type": "markdown",
   "metadata": {},
   "source": [
    "The line of code above splits the dataset into 70% train set for training and 30% test set for testing the accuracy of the model\n",
    "\n",
    "The code below computes the $\\boldsymbol{R^2}$ value, which we would use as our accuracy estimate for the proposed pipeline"
   ]
  },
  {
   "cell_type": "code",
   "execution_count": 150,
   "metadata": {},
   "outputs": [
    {
     "name": "stdout",
     "output_type": "stream",
     "text": [
      "Train R-squared: 0.7684684691103149\n",
      "Test R-squared: 0.7209460099934151\n"
     ]
    }
   ],
   "source": [
    "#load relevant library\n",
    "\n",
    "from sklearn.pipeline import Pipeline # Library to create a pipeline\n",
    "from sklearn.preprocessing import StandardScaler  # Library to standardise features\n",
    "from sklearn.linear_model import LinearRegression  # Library to perform linear regression\n",
    "import warnings\n",
    "warnings.filterwarnings('ignore')\n",
    "\n",
    "\n",
    "# Creating the Pipeline\n",
    "pipeline = Pipeline([('scaler', StandardScaler()), # scaling features\n",
    "                     ('lm', LinearRegression())]) # train a linear regression model on scaled features\n",
    "\n",
    "# fit the pipeline on the training data\n",
    "pipeline.fit(X_train, y_train)\n",
    "\n",
    "\n",
    "# Make predictions on train and test data\n",
    "y_train_pred = pipeline.predict(X_train)\n",
    "y_test_pred = pipeline.predict(X_test)\n",
    "\n",
    "# Computing the accuracy \n",
    "R2_train = pipeline.score(X_train, y_train)\n",
    "R2_test = pipeline.score(X_test, y_test)\n",
    "\n",
    "print(\"Train R-squared:\", R2_train)\n",
    "print(\"Test R-squared:\", R2_test)"
   ]
  },
  {
   "cell_type": "markdown",
   "metadata": {},
   "source": [
    "The train and test R-squared values are high and close,  indicating that the model is neither overfitting nor underfitting. This suggests that the model has a good bias-variance tradeoff and a good fit.\n",
    "\n",
    "\n",
    "\n",
    "However, the simplicity of the pipeline consisting only of Standardization and Linear Regression implies that the model may have a high bias but low variance, as linear models only recognize linear relationships between dependent(output) and independent(input) variables. Adding polynomial features can help to reduce bias and improve complexity by incorporating the modeling of non-linear relationships"
   ]
  },
  {
   "cell_type": "markdown",
   "metadata": {},
   "source": [
    "## 3. Tuning the proposed machine learning pipeline\n",
    "\n",
    "\n",
    "Since the feature space has a low dimension with a column size way less than number of rows, we would improve the complexity of the model by creating a new pipeline that includes polynomial regression. \n",
    "\n",
    "This pipeline would first tune the hyperparameters(in this case the polynomial features degree) using K-Fold Cross Validation on the tuning set to find the best hyperparameters and finally validate the final model on the unseen validation set \n",
    "\n",
    "This approach would improve's the model's complexity, its ability to capture non-linearity between the features and the target variable and help mitigate the chance of overfitting by analyzing the model's perfomance on hyperparameters on multiple folds of data and then give a better estimate of the model's performance based on the best hyperparameter.\n"
   ]
  },
  {
   "cell_type": "markdown",
   "metadata": {},
   "source": [
    "### Split the data into tuning and validation sets\n",
    "\n",
    "For a better estimate of the accuracy on the model and to ensure our tuning and validation sets are representative of a good portion of the dataset, we would use 70% tuning set from our data to tune the hyperparameters using k-fold cross validation and use 30% validation set from our data to validate the final model."
   ]
  },
  {
   "cell_type": "code",
   "execution_count": 151,
   "metadata": {},
   "outputs": [],
   "source": [
    "# Split data into 70% tuning, 30% validation\n",
    "X_tuning, X_val, y_tuning, y_val = train_test_split(X, y, test_size=0.3, random_state=10)"
   ]
  },
  {
   "cell_type": "code",
   "execution_count": 152,
   "metadata": {},
   "outputs": [
    {
     "name": "stdout",
     "output_type": "stream",
     "text": [
      "Best Polynomial Features Degree:  2\n"
     ]
    }
   ],
   "source": [
    "#load the neccessary library\n",
    "from sklearn.model_selection import KFold\n",
    "from sklearn.preprocessing import PolynomialFeatures\n",
    "from sklearn.metrics import r2_score\n",
    "import numpy as np\n",
    "\n",
    "\n",
    "# Define a range of degrees to try\n",
    "degrees = range(1, 3)\n",
    "\n",
    "# Initialize lists to store scores for each degree\n",
    "scores = []\n",
    "\n",
    "# Use nested KFold cross-validation to evaluate the model for each degree of the polynomial features\n",
    "kf = KFold(n_splits = 10, shuffle=True, random_state=10)\n",
    "\n",
    "for degree in degrees:\n",
    "    pipeline = Pipeline([\n",
    "        ('poly', PolynomialFeatures(degree=degree)),\n",
    "        ('scale', StandardScaler()),\n",
    "        ('linreg', LinearRegression())\n",
    "    ])\n",
    "    degree_scores = []\n",
    "    \n",
    "    for train_idx, val_idx in kf.split(X_tuning):\n",
    "        X_train_kf, y_train_kf = X_tuning.iloc[train_idx], y_tuning.iloc[train_idx]\n",
    "        X_val_kf, y_val_kf = X_tuning.iloc[val_idx], y_tuning.iloc[val_idx]\n",
    "        \n",
    "        pipeline.fit(X_train_kf, y_train_kf)  # fit the pipeline \n",
    "        \n",
    "        y_val_kf_pred = pipeline.predict(X_val_kf) # make predictions\n",
    "        \n",
    "        score = r2_score(y_val_kf, y_val_kf_pred) # compute accuracy on test data\n",
    "        \n",
    "        degree_scores.append(score) #update degree_scores array with accuracy for each model on test data\n",
    "        \n",
    "    mean_degree_score = np.mean(degree_scores)\n",
    "    scores.append(mean_degree_score) # update vector that stores the R2 scores(accuracy) for... \n",
    "                                     # ...each degree with the best fit model score \n",
    "\n",
    "# Find the degree with the best R2 score\n",
    "best_degree = degrees[np.argmax(scores)]\n",
    "\n",
    "print(\"Best Polynomial Features Degree: \", best_degree)\n",
    "\n"
   ]
  },
  {
   "cell_type": "markdown",
   "metadata": {},
   "source": [
    "Based on the tuning results, it appears that the best hyperparameter value offering the best estimate of bias-variance trade off is a polynomial transformation to a degree of 2"
   ]
  },
  {
   "cell_type": "markdown",
   "metadata": {},
   "source": [
    "###  Validation on unseen data\n",
    "\n",
    "Below we evaluate the final model's performance on the unseen validation set using the best hyperparameter from the tuning phase"
   ]
  },
  {
   "cell_type": "code",
   "execution_count": 153,
   "metadata": {},
   "outputs": [
    {
     "name": "stdout",
     "output_type": "stream",
     "text": [
      "R2 on tuning data: 0.987707493326728\n",
      "R2 on validation data: 0.9717922146279739\n"
     ]
    }
   ],
   "source": [
    "# Build final model for evaluation\n",
    "final_pipeline = Pipeline([\n",
    "                                ('scale', StandardScaler()), # Standardize the data\n",
    "                                ('poly', PolynomialFeatures(2)), # polynomial transformation to a degree of 2\n",
    "                                ('lr', LinearRegression()) # Fit a linear regression model on transformed data\n",
    "                              ])\n",
    "    \n",
    "# fit the pipeline \n",
    "final_pipeline.fit(X_tuning, y_tuning)\n",
    "    \n",
    "# Make predictions\n",
    "y_train_pred = final_pipeline.predict(X_tuning)\n",
    "y_val_pred = final_pipeline.predict(X_val)\n",
    "    \n",
    "# Compute the accuracy \n",
    "R2_score_train = final_pipeline.score(X_tuning, y_tuning)\n",
    "R2_score_val = final_pipeline.score(X_val, y_val)\n",
    "    \n",
    "   \n",
    "\n",
    "print(\"R2 on tuning data:\", R2_score_train)\n",
    "print(\"R2 on validation data:\",  R2_score_val )\n"
   ]
  },
  {
   "cell_type": "markdown",
   "metadata": {},
   "source": [
    "The $\\boldsymbol{R^2}$ values of the our first model are significantly lower than the $\\boldsymbol{R^2}$ values of the tuned model, confirming that the first model was underfitting the data.\n",
    "\n",
    "In summary, the final tuned model is performing better than the non-tuned model with a better bias-variance tradeoff."
   ]
  },
  {
   "cell_type": "markdown",
   "metadata": {},
   "source": [
    "## 4. Model interpretation\n",
    "\n",
    "To ensure complete model interpretability we would analyze and verify whether the conditions of regression models are met.\n",
    "\n",
    "Below we first create a dataframe with the actual values, predicted values and residuals on our best model, which uses the validation data"
   ]
  },
  {
   "cell_type": "code",
   "execution_count": 154,
   "metadata": {},
   "outputs": [
    {
     "data": {
      "text/html": [
       "<div>\n",
       "<style scoped>\n",
       "    .dataframe tbody tr th:only-of-type {\n",
       "        vertical-align: middle;\n",
       "    }\n",
       "\n",
       "    .dataframe tbody tr th {\n",
       "        vertical-align: top;\n",
       "    }\n",
       "\n",
       "    .dataframe thead th {\n",
       "        text-align: right;\n",
       "    }\n",
       "</style>\n",
       "<table border=\"1\" class=\"dataframe\">\n",
       "  <thead>\n",
       "    <tr style=\"text-align: right;\">\n",
       "      <th></th>\n",
       "      <th>actual</th>\n",
       "      <th>fitted</th>\n",
       "      <th>residuals</th>\n",
       "    </tr>\n",
       "  </thead>\n",
       "  <tbody>\n",
       "    <tr>\n",
       "      <th>count</th>\n",
       "      <td>45.000000</td>\n",
       "      <td>45.000000</td>\n",
       "      <td>45.000000</td>\n",
       "    </tr>\n",
       "    <tr>\n",
       "      <th>mean</th>\n",
       "      <td>14.000149</td>\n",
       "      <td>14.015159</td>\n",
       "      <td>-0.015010</td>\n",
       "    </tr>\n",
       "    <tr>\n",
       "      <th>std</th>\n",
       "      <td>20.805416</td>\n",
       "      <td>20.013459</td>\n",
       "      <td>3.494273</td>\n",
       "    </tr>\n",
       "    <tr>\n",
       "      <th>min</th>\n",
       "      <td>0.081166</td>\n",
       "      <td>-4.466859</td>\n",
       "      <td>-7.033030</td>\n",
       "    </tr>\n",
       "    <tr>\n",
       "      <th>25%</th>\n",
       "      <td>0.843835</td>\n",
       "      <td>1.158141</td>\n",
       "      <td>-2.289989</td>\n",
       "    </tr>\n",
       "    <tr>\n",
       "      <th>50%</th>\n",
       "      <td>4.680310</td>\n",
       "      <td>5.292907</td>\n",
       "      <td>-0.197075</td>\n",
       "    </tr>\n",
       "    <tr>\n",
       "      <th>75%</th>\n",
       "      <td>14.089273</td>\n",
       "      <td>16.294860</td>\n",
       "      <td>1.717480</td>\n",
       "    </tr>\n",
       "    <tr>\n",
       "      <th>max</th>\n",
       "      <td>80.673096</td>\n",
       "      <td>69.677672</td>\n",
       "      <td>10.995424</td>\n",
       "    </tr>\n",
       "  </tbody>\n",
       "</table>\n",
       "</div>"
      ],
      "text/plain": [
       "          actual     fitted  residuals\n",
       "count  45.000000  45.000000  45.000000\n",
       "mean   14.000149  14.015159  -0.015010\n",
       "std    20.805416  20.013459   3.494273\n",
       "min     0.081166  -4.466859  -7.033030\n",
       "25%     0.843835   1.158141  -2.289989\n",
       "50%     4.680310   5.292907  -0.197075\n",
       "75%    14.089273  16.294860   1.717480\n",
       "max    80.673096  69.677672  10.995424"
      ]
     },
     "execution_count": 154,
     "metadata": {},
     "output_type": "execute_result"
    }
   ],
   "source": [
    "#Build data frame with actual and predicted target (validation) data.\n",
    "y_val_pred = np.squeeze(y_val_pred)\n",
    "\n",
    "verification = pd.DataFrame({\"actual\": y_val.y.values})\n",
    "verification[\"fitted\"] = y_val_pred\n",
    "verification[\"residuals\"] = verification[\"actual\"] - verification[\"fitted\"]\n",
    "verification.describe()"
   ]
  },
  {
   "cell_type": "markdown",
   "metadata": {},
   "source": [
    "The first condition is to check the normality of Residuals\n",
    "\n",
    "Let's visualize the residuals below"
   ]
  },
  {
   "cell_type": "code",
   "execution_count": 155,
   "metadata": {},
   "outputs": [
    {
     "data": {
      "text/plain": [
       "<seaborn.axisgrid.FacetGrid at 0x1a73fd416f0>"
      ]
     },
     "execution_count": 155,
     "metadata": {},
     "output_type": "execute_result"
    },
    {
     "data": {
      "image/png": "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\n",
      "text/plain": [
       "<Figure size 500x500 with 1 Axes>"
      ]
     },
     "metadata": {},
     "output_type": "display_data"
    }
   ],
   "source": [
    "sb.set(rc={'figure.figsize':(4,3)})\n",
    "sb.displot(data = verification, x=\"residuals\", bins = 10)"
   ]
  },
  {
   "cell_type": "markdown",
   "metadata": {},
   "source": [
    "While the distribution may appear bell-shaped, the presence of an outlier indicate that the data is partially normally distributed. So therefore, the normality of residuals condition is slightly met.\n",
    "\n",
    "\n",
    "Next we check for independence of Residuals(Homoscedasticity) by plotting a scattered plot to explore the relationship of residuals between actual and predicted values."
   ]
  },
  {
   "cell_type": "code",
   "execution_count": 156,
   "metadata": {},
   "outputs": [
    {
     "data": {
      "text/plain": [
       "<seaborn.axisgrid.FacetGrid at 0x1a73fb6f070>"
      ]
     },
     "execution_count": 156,
     "metadata": {},
     "output_type": "execute_result"
    },
    {
     "data": {
      "image/png": "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\n",
      "text/plain": [
       "<Figure size 500x500 with 1 Axes>"
      ]
     },
     "metadata": {},
     "output_type": "display_data"
    }
   ],
   "source": [
    "sb.set(rc={'figure.figsize':(4,3)})\n",
    "sb.lmplot(data=verification, x=\"actual\", y=\"residuals\", scatter_kws={'alpha':0.3})"
   ]
  },
  {
   "cell_type": "markdown",
   "metadata": {},
   "source": [
    "Here we can see that the Residuals are not correlated with actual values and are completely random."
   ]
  },
  {
   "cell_type": "code",
   "execution_count": 157,
   "metadata": {},
   "outputs": [
    {
     "data": {
      "text/plain": [
       "<seaborn.axisgrid.FacetGrid at 0x1a73fe574c0>"
      ]
     },
     "execution_count": 157,
     "metadata": {},
     "output_type": "execute_result"
    },
    {
     "data": {
      "image/png": "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\n",
      "text/plain": [
       "<Figure size 500x500 with 1 Axes>"
      ]
     },
     "metadata": {},
     "output_type": "display_data"
    }
   ],
   "source": [
    "sb.set(rc={'figure.figsize':(4,3)})\n",
    "sb.lmplot(data=verification, x=\"fitted\", y=\"residuals\", scatter_kws={'alpha':0.3})"
   ]
  },
  {
   "cell_type": "markdown",
   "metadata": {},
   "source": [
    "We can also see the same for the predicted values, however, despite this randomness, there are some little signals indicating that there is room for improvement in our model\n",
    "\n",
    "Finally, to verify if our model is interpretable, we would check to see if there is no multicolinearity among the predictors"
   ]
  },
  {
   "cell_type": "code",
   "execution_count": 158,
   "metadata": {},
   "outputs": [
    {
     "data": {
      "text/html": [
       "<div>\n",
       "<style scoped>\n",
       "    .dataframe tbody tr th:only-of-type {\n",
       "        vertical-align: middle;\n",
       "    }\n",
       "\n",
       "    .dataframe tbody tr th {\n",
       "        vertical-align: top;\n",
       "    }\n",
       "\n",
       "    .dataframe thead th {\n",
       "        text-align: right;\n",
       "    }\n",
       "</style>\n",
       "<table border=\"1\" class=\"dataframe\">\n",
       "  <thead>\n",
       "    <tr style=\"text-align: right;\">\n",
       "      <th></th>\n",
       "      <th>x1</th>\n",
       "      <th>x2</th>\n",
       "      <th>x3</th>\n",
       "      <th>x4</th>\n",
       "      <th>x5</th>\n",
       "      <th>x6</th>\n",
       "      <th>x7</th>\n",
       "      <th>x8</th>\n",
       "    </tr>\n",
       "  </thead>\n",
       "  <tbody>\n",
       "    <tr>\n",
       "      <th>x1</th>\n",
       "      <td>1.000000</td>\n",
       "      <td>0.006487</td>\n",
       "      <td>0.036280</td>\n",
       "      <td>-0.161786</td>\n",
       "      <td>0.006617</td>\n",
       "      <td>0.208506</td>\n",
       "      <td>0.698328</td>\n",
       "      <td>0.028974</td>\n",
       "    </tr>\n",
       "    <tr>\n",
       "      <th>x2</th>\n",
       "      <td>0.006487</td>\n",
       "      <td>1.000000</td>\n",
       "      <td>0.192409</td>\n",
       "      <td>-0.044470</td>\n",
       "      <td>0.128695</td>\n",
       "      <td>0.979353</td>\n",
       "      <td>-0.059266</td>\n",
       "      <td>0.101672</td>\n",
       "    </tr>\n",
       "    <tr>\n",
       "      <th>x3</th>\n",
       "      <td>0.036280</td>\n",
       "      <td>0.192409</td>\n",
       "      <td>1.000000</td>\n",
       "      <td>-0.136270</td>\n",
       "      <td>0.118482</td>\n",
       "      <td>0.195518</td>\n",
       "      <td>-0.122963</td>\n",
       "      <td>0.834137</td>\n",
       "    </tr>\n",
       "    <tr>\n",
       "      <th>x4</th>\n",
       "      <td>-0.161786</td>\n",
       "      <td>-0.044470</td>\n",
       "      <td>-0.136270</td>\n",
       "      <td>1.000000</td>\n",
       "      <td>0.066331</td>\n",
       "      <td>-0.076200</td>\n",
       "      <td>-0.088775</td>\n",
       "      <td>-0.159481</td>\n",
       "    </tr>\n",
       "    <tr>\n",
       "      <th>x5</th>\n",
       "      <td>0.006617</td>\n",
       "      <td>0.128695</td>\n",
       "      <td>0.118482</td>\n",
       "      <td>0.066331</td>\n",
       "      <td>1.000000</td>\n",
       "      <td>0.127207</td>\n",
       "      <td>-0.024002</td>\n",
       "      <td>-0.448841</td>\n",
       "    </tr>\n",
       "    <tr>\n",
       "      <th>x6</th>\n",
       "      <td>0.208506</td>\n",
       "      <td>0.979353</td>\n",
       "      <td>0.195518</td>\n",
       "      <td>-0.076200</td>\n",
       "      <td>0.127207</td>\n",
       "      <td>1.000000</td>\n",
       "      <td>0.083210</td>\n",
       "      <td>0.105297</td>\n",
       "    </tr>\n",
       "    <tr>\n",
       "      <th>x7</th>\n",
       "      <td>0.698328</td>\n",
       "      <td>-0.059266</td>\n",
       "      <td>-0.122963</td>\n",
       "      <td>-0.088775</td>\n",
       "      <td>-0.024002</td>\n",
       "      <td>0.083210</td>\n",
       "      <td>1.000000</td>\n",
       "      <td>-0.097329</td>\n",
       "    </tr>\n",
       "    <tr>\n",
       "      <th>x8</th>\n",
       "      <td>0.028974</td>\n",
       "      <td>0.101672</td>\n",
       "      <td>0.834137</td>\n",
       "      <td>-0.159481</td>\n",
       "      <td>-0.448841</td>\n",
       "      <td>0.105297</td>\n",
       "      <td>-0.097329</td>\n",
       "      <td>1.000000</td>\n",
       "    </tr>\n",
       "  </tbody>\n",
       "</table>\n",
       "</div>"
      ],
      "text/plain": [
       "          x1        x2        x3        x4        x5        x6        x7  \\\n",
       "x1  1.000000  0.006487  0.036280 -0.161786  0.006617  0.208506  0.698328   \n",
       "x2  0.006487  1.000000  0.192409 -0.044470  0.128695  0.979353 -0.059266   \n",
       "x3  0.036280  0.192409  1.000000 -0.136270  0.118482  0.195518 -0.122963   \n",
       "x4 -0.161786 -0.044470 -0.136270  1.000000  0.066331 -0.076200 -0.088775   \n",
       "x5  0.006617  0.128695  0.118482  0.066331  1.000000  0.127207 -0.024002   \n",
       "x6  0.208506  0.979353  0.195518 -0.076200  0.127207  1.000000  0.083210   \n",
       "x7  0.698328 -0.059266 -0.122963 -0.088775 -0.024002  0.083210  1.000000   \n",
       "x8  0.028974  0.101672  0.834137 -0.159481 -0.448841  0.105297 -0.097329   \n",
       "\n",
       "          x8  \n",
       "x1  0.028974  \n",
       "x2  0.101672  \n",
       "x3  0.834137  \n",
       "x4 -0.159481  \n",
       "x5 -0.448841  \n",
       "x6  0.105297  \n",
       "x7 -0.097329  \n",
       "x8  1.000000  "
      ]
     },
     "execution_count": 158,
     "metadata": {},
     "output_type": "execute_result"
    }
   ],
   "source": [
    "X_tuning.corr()"
   ]
  },
  {
   "cell_type": "markdown",
   "metadata": {},
   "source": [
    "Some features show strong correlations, Let's visualize the correlation matrix below"
   ]
  },
  {
   "cell_type": "code",
   "execution_count": 159,
   "metadata": {},
   "outputs": [
    {
     "data": {
      "text/plain": [
       "<Axes: >"
      ]
     },
     "execution_count": 159,
     "metadata": {},
     "output_type": "execute_result"
    },
    {
     "data": {
      "image/png": "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\n",
      "text/plain": [
       "<Figure size 400x300 with 2 Axes>"
      ]
     },
     "metadata": {},
     "output_type": "display_data"
    }
   ],
   "source": [
    "# Generate a custom diverging colormap\n",
    "cmap = sb.diverging_palette(230, 20, as_cmap=True)\n",
    "\n",
    "sb.heatmap(X_tuning.corr()**2, cmap=cmap, center=0, square=True, linewidths=.5)"
   ]
  },
  {
   "cell_type": "markdown",
   "metadata": {},
   "source": [
    "Based on the visualization, we can confirm that there is a significant amount of multicolinearity among the predictors.\n",
    "\n",
    "In summary our proposed pipeline fits quite well on unseen data with an $\\boldsymbol{R^2}$ value of **0.917**, meaning that the model would be good for making predictions, however, the model does not meet all the conditions of a linear regression model, as there is multicolinearity amongst features indicating that the beta coefficients are unstable. This means that the model is not interpretable but has a good fit for making predictions.\n",
    "\n",
    "we can visualize this in the scattered plot below to compare the actual and predicted target data"
   ]
  },
  {
   "cell_type": "code",
   "execution_count": 160,
   "metadata": {},
   "outputs": [
    {
     "data": {
      "text/plain": [
       "<seaborn.axisgrid.FacetGrid at 0x1a73fd41fc0>"
      ]
     },
     "execution_count": 160,
     "metadata": {},
     "output_type": "execute_result"
    },
    {
     "data": {
      "image/png": "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\n",
      "text/plain": [
       "<Figure size 500x500 with 1 Axes>"
      ]
     },
     "metadata": {},
     "output_type": "display_data"
    }
   ],
   "source": [
    "sb.relplot(data=verification, x=\"actual\", y=\"fitted\")"
   ]
  },
  {
   "cell_type": "markdown",
   "metadata": {},
   "source": [
    "From the plot above we can see that there is a good alignment between actual target and predicted target data, this shows that our model would have a good estimate of accuracy when it comes to predictions.\n",
    "\n",
    "Now to analyze the inferred function, we'll evaluate the $\\beta$s below"
   ]
  },
  {
   "cell_type": "code",
   "execution_count": 161,
   "metadata": {},
   "outputs": [
    {
     "name": "stdout",
     "output_type": "stream",
     "text": [
      "[[ 5.43511508e+09 -1.53732912e+08 -7.43750010e+08 -7.28124105e+08\n",
      "   1.72272924e+01  4.49414388e+08  7.60448138e+08 -7.34128906e-02\n",
      "   8.09071169e+08 -5.14285946e+11 -4.97675532e+12  3.96752265e+11\n",
      "  -3.42387075e+08 -2.45175891e+11  5.08856137e+12 -1.98171860e+08\n",
      "  -4.40549401e+11 -1.20400399e+13  1.91559609e+12 -1.65644681e+09\n",
      "  -1.18375911e+12  2.46210543e+13 -9.58742802e+08 -2.12705404e+12\n",
      "  -6.43350057e+12  4.07782628e+08  7.94113607e+12 -1.95848825e+12\n",
      "  -6.08632680e+08  1.42967474e+13  1.23525870e+01 -2.51692505e+08\n",
      "   1.69363614e+09 -1.49529608e-01 -4.53116668e+08 -2.45051823e+12\n",
      "   1.21026477e+12  3.75661623e+08 -8.82353352e+12 -1.25870912e+13\n",
      "   9.80267790e+08  2.17468087e+12  7.00010209e-01  6.76295634e+08\n",
      "  -7.94268156e+12]]\n"
     ]
    }
   ],
   "source": [
    "# Get the coefficients\n",
    "coef = final_pipeline.named_steps['lr'].coef_\n",
    "\n",
    "# Print the coefficients\n",
    "print(coef)"
   ]
  },
  {
   "cell_type": "markdown",
   "metadata": {},
   "source": [
    "Based on the coefficients, we can observe the polynomial transformation on our feature space from a low dimensional to a high dimensional space.\n",
    "\n",
    "From the coefficients of the model we can infer the polynomial function below\n",
    "\n",
    "\n",
    "$f(x) = \\sum_{m=1}^{n} \\beta_m \\cdot x^m$, where $\\beta_n$ are the coefficients of the model and $x$ is the features.\n",
    "\n",
    "\n",
    "$ y = 5.43511508e+09 -1.53732912e+08x1 -7.43750010e+08x2 -7.28124105e+08x3\n",
    "+1.72272924e+01x4 +4.49414388e+08x5 +7.60448138e+08x6 -7.34128906e-02x7\n",
    "+8.09071169e+08x8 -5.14285946e+11x1^2 -4.97675532e+12x1x2 +3.96752265e+11x1x3\n",
    "-3.42387075e+08x1x4 -2.45175891e+11x1x5 +5.08856137e+12x1x6 -1.98171860e+08x1x7\n",
    "-4.40549401e+11x1x8 ... +  e$\n",
    "\n",
    "we can interprete some of the $\\beta$ coefficients as follows\n",
    "- The $\\beta$ coefficient, +8.09071169e+08, of the x8 attribute is positive and large indicating that, x8 has a strong weight on predicting the outcome variable.\n",
    "- Attributes with negative $\\beta$ coefficients shows that the feature has a negative effect on the outcome variable.\n"
   ]
  },
  {
   "cell_type": "markdown",
   "metadata": {},
   "source": [
    "## 4. Discussion: pros/cons and time complexity of the designed pipeline\n",
    "\n",
    "\n",
    "The final pipeline is human interpretable as it involved standardizing features using StandardScaler to ensure all features are on the same scale, it then transforms them into polynomial features of degree 2, which was selected based on the best R2 score obtained from cross-validation tuning, all to improve complexity, capture non-linear relationships as well to improve model performance, finally it fits a linear regression model on the transformed data. \n",
    "\n",
    "### Time complexity of the proposed pipeline\n",
    "\n",
    "The time complexity for training a linear regression model with polynomial features is $O(n*m^d)$, where\n",
    "\n",
    "- $n$ is the number of observations\n",
    "- $m$ is the number of features, and\n",
    "- $d$ is the degree of the polynomial.\n",
    "\n",
    "For the proposed pipeline, the highest time complexity comes from the nested For loop, which runs 10-fold cross-validation for each degree of polynomial features to be evaluated. The number of observations and the number of features increased to the degree of polynomial features $(m^d)$ have the greatest influence on time execution.\n",
    "\n",
    "\n",
    "The nested For Loop's high-level algorithm is as follows:\n",
    "\n",
    "    For each degree to evaluate:\n",
    "        For each fold k:   \n",
    "            Split the data into train and test sets\n",
    "                Standardize the data\n",
    "                Transform the data using polynomial features\n",
    "                Train a linear regression model\n",
    "                Test the linear regression model\n",
    "          Compute the mean accuracy across all folds for the current degree\n",
    "    Choose the degree with the highest mean accuracy\n",
    "\n",
    "Therefore, the time complexity for training the proposed pipeline having k-fold cross validation with polynomial features and linear regression is  $O(k * d * n * m^d)$, where \n",
    "- $k$ is the number of folds\n",
    "- $d$ is the number of degrees to tune\n",
    "- $m$ is the number of features, and\n",
    "- $n$ is the number of observations. \n",
    "\n",
    "\n",
    "### Strengths and Limitations\n",
    "\n",
    "#### Strengths:\n",
    "\n",
    "- The pipeline perform k-fold cross validation to tune the hyperparameters that gives a better estimate of bias-variance      tradeoff which helps to prevent underfitting or overfitting. \n",
    "- The use of Polynomial Features allows for data complexity, better model performance and capturing the non-linear relationships between outcome and predictors.\n",
    "- Data standardization would make sure that all the features are on the same scale, curbing the impact of features with high readings(outliers). This is also important as linear regression assumes all features have equal importance in predicting the target variable.\n",
    "- The pipeline is a helpful tool for quick modelling because it is reasonably simple to set up and apply to fresh datasets.\n",
    "\n",
    "\n",
    "#### Limitations:\n",
    "\n",
    "- The model cannot be used for hypothesis testing due to the unstable coefficients(multicollinearity) $\\beta$\n",
    "- Polynomial regression is prone to overfitting on training data, specifically with higher degrees of polynomial features.\n",
    "- The pipeline may not perform well if some interactions between features that are not captured by the polynomial features.\n",
    "- The pipeline assumes that linear models are a suitable fit for the data, however this may not be the case for all datasets.\n",
    "- The pipeline could be computationally expensive, particularly when working with large datasets and high degrees of polynomial features due to the time complexity.\n",
    "\n",
    "### Possible ways to improve the pipeline\n",
    "\n",
    "- Implement regularization techniques, such as lasso regression, to reduce overfitting after the polynomial transformation step. This regularization approach can also serve as a feature selection technique to lower the dimensionality of the feature space.\n",
    "- Applying other feature selection techniques such as Principal Component Analysis (PCA) and  Variance Inflation Factor (VIF) before the polynomial transformation to address the issue of multicollinearity."
   ]
  }
 ],
 "metadata": {
  "kernelspec": {
   "display_name": "Python 3 (ipykernel)",
   "language": "python",
   "name": "python3"
  },
  "language_info": {
   "codemirror_mode": {
    "name": "ipython",
    "version": 3
   },
   "file_extension": ".py",
   "mimetype": "text/x-python",
   "name": "python",
   "nbconvert_exporter": "python",
   "pygments_lexer": "ipython3",
   "version": "3.10.9"
  }
 },
 "nbformat": 4,
 "nbformat_minor": 4
}
